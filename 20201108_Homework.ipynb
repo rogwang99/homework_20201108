{
 "cells": [
  {
   "cell_type": "markdown",
   "metadata": {},
   "source": [
    "### Homework 2020/11/01, Roger Wang\n",
    "\n",
    "<img style=\"float: left;\" src=\"mission_01.png\" width=\"15%\"><br>\n",
    "<br>\n",
    "請接續11/1 完成的 Lab Mission 3計算觀測站ＡＱＩ的年度平均 、標準差 與 變異數 。"
   ]
  },
  {
   "cell_type": "code",
   "execution_count": 1,
   "metadata": {},
   "outputs": [
    {
     "name": "stdout",
     "output_type": "stream",
     "text": [
      "AQI 年度平均：61.63\n",
      "AQI 年度標準差：85.6\n",
      "AQI 年度變異數：7327.35\n"
     ]
    }
   ],
   "source": [
    "import pandas as pd\n",
    "df = pd.read_csv('hukou_aqi_2019.csv', index_col=0)\n",
    "print('AQI 年度平均：{}'.format(round(df['AQI'].mean(),2)))\n",
    "print('AQI 年度標準差：{}'.format(round(df['AQI'].std(),2)))\n",
    "print('AQI 年度變異數：{}'.format(round(df['AQI'].std()**2,2)))"
   ]
  },
  {
   "cell_type": "markdown",
   "metadata": {},
   "source": [
    "<img style=\"float: left;\" src=\"mission_02.png\" width=\"20%\"><br>\n",
    "<br>\n",
    "接續01 ，為探索季節/月份因素，新增\"季度\"欄位，並計算ＡＱＩ的 季度平均及月份平均"
   ]
  },
  {
   "cell_type": "code",
   "execution_count": 2,
   "metadata": {},
   "outputs": [
    {
     "data": {
      "text/plain": [
       "季\n",
       "1    65.993806\n",
       "2    65.640236\n",
       "3    52.075867\n",
       "4    62.961875\n",
       "Name: AQI, dtype: float64"
      ]
     },
     "metadata": {},
     "output_type": "display_data"
    },
    {
     "data": {
      "text/plain": [
       "月\n",
       "1     63.397970\n",
       "2     61.696488\n",
       "3     72.471089\n",
       "4     72.627250\n",
       "5     67.627483\n",
       "6     56.277396\n",
       "7     46.015182\n",
       "8     46.309973\n",
       "9     64.339344\n",
       "10    70.573172\n",
       "11    58.040611\n",
       "12    60.113091\n",
       "Name: AQI, dtype: float64"
      ]
     },
     "metadata": {},
     "output_type": "display_data"
    }
   ],
   "source": [
    "df1 = df.copy()\n",
    "# df1['季']=1\n",
    "def get_season(row):\n",
    "    if row['月']<=3:\n",
    "        return 1\n",
    "    elif row['月']>=4 and row['月']<=6:\n",
    "        return 2\n",
    "    elif row['月']>=7 and row['月']<=9:\n",
    "        return 3\n",
    "    else:\n",
    "        return 4\n",
    "\n",
    "\n",
    "df1['季'] = df1.apply(lambda row:get_season(row), axis=1)\n",
    "\n",
    "aqi_season = df1.groupby(by='季')['AQI'].mean()\n",
    "aqi_month = df1.groupby(by='月')['AQI'].mean()\n",
    "display(aqi_season)\n",
    "display(aqi_month)"
   ]
  },
  {
   "cell_type": "markdown",
   "metadata": {},
   "source": [
    "<img style=\"float: left;\" src=\"mission_03.png\" width=\"15%\"><br>\n",
    "<br>\n",
    "\n",
    "接續02 ，請利用Matplotlib 套件，繪製ＡＱＩ的 季 、 月均線狀圖 ，並以年均值為水平虛線閥值線 。"
   ]
  },
  {
   "cell_type": "code",
   "execution_count": 7,
   "metadata": {},
   "outputs": [
    {
     "data": {
      "text/plain": [
       "<matplotlib.collections.LineCollection at 0x7f9466c9c6a0>"
      ]
     },
     "execution_count": 7,
     "metadata": {},
     "output_type": "execute_result"
    },
    {
     "data": {
      "image/png": "[encoded data removed]",
      "text/plain": [
       "<Figure size 432x288 with 1 Axes>"
      ]
     },
     "metadata": {
      "needs_background": "light"
     },
     "output_type": "display_data"
    }
   ],
   "source": [
    "import numpy as np\n",
    "import matplotlib\n",
    "from matplotlib import pyplot as plt\n",
    "%matplotlib inline\n",
    "\n",
    "plt.ylim(0, 80)\n",
    "plt.xlabel('season')\n",
    "plt.ylabel('AQI')\n",
    "plt.plot(aqi_season.index, aqi_season.values)\n",
    "#add a horizontal line\n",
    "plt.hlines(df['AQI'].mean(), xmin=1, xmax=4, colors='r',\n",
    "           linestyle='--')"
   ]
  },
  {
   "cell_type": "code",
   "execution_count": 6,
   "metadata": {},
   "outputs": [
    {
     "data": {
      "text/plain": [
       "<matplotlib.collections.LineCollection at 0x7f9466b25ef0>"
      ]
     },
     "execution_count": 6,
     "metadata": {},
     "output_type": "execute_result"
    },
    {
     "data": {
      "image/png": "[encoded data removed]",
      "text/plain": [
       "<Figure size 432x288 with 1 Axes>"
      ]
     },
     "metadata": {
      "needs_background": "light"
     },
     "output_type": "display_data"
    }
   ],
   "source": [
    "plt.ylim(0, 80)\n",
    "plt.xlabel('month')\n",
    "plt.ylabel('AQI')\n",
    "plt.plot(aqi_month.index, aqi_month.values)\n",
    "#add a horizontal line\n",
    "plt.hlines(df['AQI'].mean(), xmin=1, xmax=12, colors='r', \n",
    "           linestyle='dotted')"
   ]
  },
  {
   "cell_type": "code",
   "execution_count": null,
   "metadata": {},
   "outputs": [],
   "source": []
  }
 ],
 "metadata": {
  "kernelspec": {
   "display_name": "Python 3",
   "language": "python",
   "name": "python3"
  },
  "language_info": {
   "codemirror_mode": {
    "name": "ipython",
    "version": 3
   },
   "file_extension": ".py",
   "mimetype": "text/x-python",
   "name": "python",
   "nbconvert_exporter": "python",
   "pygments_lexer": "ipython3",
   "version": "3.6.11"
  }
 },
 "nbformat": 4,
 "nbformat_minor": 4
}
